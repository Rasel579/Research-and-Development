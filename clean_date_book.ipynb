{
 "cells": [
  {
   "metadata": {},
   "cell_type": "markdown",
   "source": [
    "# This is a sample Jupyter Notebook\n",
    "\n",
    "Below is an example of a code cell. \n",
    "Put your cursor into the cell and press Shift+Enter to execute it and select the next one, or click 'Run Cell' button.\n",
    "\n",
    "Press Double Shift to search everywhere for classes, files, tool windows, actions, and settings.\n",
    "\n",
    "To learn more about Jupyter Notebooks in PyCharm, see [help](https://www.jetbrains.com/help/pycharm/ipython-notebook-support.html).\n",
    "For an overview of PyCharm, go to Help -> Learn IDE features or refer to [our documentation](https://www.jetbrains.com/help/pycharm/getting-started.html)."
   ],
   "id": "8a77807f92f26ee"
  },
  {
   "metadata": {
    "ExecuteTime": {
     "end_time": "2025-08-24T18:27:41.816633Z",
     "start_time": "2025-08-24T18:27:41.812197Z"
    }
   },
   "cell_type": "code",
   "source": "import pandas as pd\n",
   "id": "fbc121e30a2defb3",
   "outputs": [],
   "execution_count": 7
  },
  {
   "metadata": {
    "ExecuteTime": {
     "end_time": "2025-08-24T18:27:41.837246Z",
     "start_time": "2025-08-24T18:27:41.830040Z"
    }
   },
   "cell_type": "code",
   "source": [
    "def clean_data( file_path: str ) -> pd.DataFrame:\n",
    "    with open(file_path, 'r', encoding= \"utf-8\") as f:\n",
    "        lines = f.readlines()\n",
    "\n",
    "    filtered_lines = []\n",
    "    date_lines = []\n",
    "    date = \"\"\n",
    "    for line in lines:\n",
    "      if line.strip()[:5] == '\"date' and line.strip()[:14] !='\"date_unixtime':\n",
    "         date = line\n",
    "      if line[:8] == '   \"text' and line.replace('\"','').replace('\\n', '').replace(',','').replace(' ', '').replace(\":\",'').replace('[','')[4:] != '' and line.strip()[:14] !='\"text_entities':\n",
    "         filtered_lines.append([date.strip()[:len(date.strip()) - 1], line.strip()[8:][:len(line.strip()[8:]) - 1].replace('\"','').replace('\\u200E', '').replace('\\u200F', '')])\n",
    "         date_lines.append(date)\n",
    "    df = pd.DataFrame(filtered_lines, columns=['date', 'text'])\n",
    "    return df\n",
    "\n"
   ],
   "id": "430654454a2f6d12",
   "outputs": [],
   "execution_count": 8
  },
  {
   "metadata": {
    "ExecuteTime": {
     "end_time": "2025-08-24T18:28:21.703576Z",
     "start_time": "2025-08-24T18:28:21.550716Z"
    }
   },
   "cell_type": "code",
   "source": [
    "from pathlib import Path\n",
    "all_data = {}\n",
    "data_path = Path(\"./raw_data/\")\n",
    "for file in data_path.glob(\"*.json\"):\n",
    "    file_name = file.stem\n",
    "    all_data[file_name] = clean_data(file)\n",
    "\n",
    "all_data['text_neighborhood_chat_tg_data']\n"
   ],
   "id": "5232d0995ddb10f1",
   "outputs": [
    {
     "data": {
      "text/plain": [
       "                               date  \\\n",
       "0     \"date\": \"2023-06-18T21:38:38\"   \n",
       "1     \"date\": \"2023-06-24T12:47:58\"   \n",
       "2     \"date\": \"2023-06-24T13:21:52\"   \n",
       "3     \"date\": \"2023-06-24T13:32:47\"   \n",
       "4     \"date\": \"2023-06-24T13:34:45\"   \n",
       "...                             ...   \n",
       "6577  \"date\": \"2025-08-23T19:00:05\"   \n",
       "6578  \"date\": \"2025-08-23T21:07:13\"   \n",
       "6579  \"date\": \"2025-08-24T11:04:53\"   \n",
       "6580  \"date\": \"2025-08-24T11:09:49\"   \n",
       "6581  \"date\": \"2025-08-24T17:06:30\"   \n",
       "\n",
       "                                                   text  \n",
       "0                     Здравствуйте! Не возражаю конечно  \n",
       "1               Добрый день соседи! Евгений 59 квартира  \n",
       "2                     Всем привет! Павел, Ирина, 97 ка.  \n",
       "3     А кто администратор группы? Добавьте сюда пред...  \n",
       "4     Может добавить любой участник. Если есть конта...  \n",
       "...                                                 ...  \n",
       "6577              2 секция соседи, кто потерял зарядку?  \n",
       "6578                     Здравствуйте, где вы ее нашли?  \n",
       "6579                          Здравствуйте, возможно мы  \n",
       "6580  Что такое ВОЗМОЖНО? Проверте каждый дома есть ...  \n",
       "6581  Здравствуйте мама Лёни напишите мне , ( мама И...  \n",
       "\n",
       "[6582 rows x 2 columns]"
      ],
      "text/html": [
       "<div>\n",
       "<style scoped>\n",
       "    .dataframe tbody tr th:only-of-type {\n",
       "        vertical-align: middle;\n",
       "    }\n",
       "\n",
       "    .dataframe tbody tr th {\n",
       "        vertical-align: top;\n",
       "    }\n",
       "\n",
       "    .dataframe thead th {\n",
       "        text-align: right;\n",
       "    }\n",
       "</style>\n",
       "<table border=\"1\" class=\"dataframe\">\n",
       "  <thead>\n",
       "    <tr style=\"text-align: right;\">\n",
       "      <th></th>\n",
       "      <th>date</th>\n",
       "      <th>text</th>\n",
       "    </tr>\n",
       "  </thead>\n",
       "  <tbody>\n",
       "    <tr>\n",
       "      <th>0</th>\n",
       "      <td>\"date\": \"2023-06-18T21:38:38\"</td>\n",
       "      <td>Здравствуйте! Не возражаю конечно</td>\n",
       "    </tr>\n",
       "    <tr>\n",
       "      <th>1</th>\n",
       "      <td>\"date\": \"2023-06-24T12:47:58\"</td>\n",
       "      <td>Добрый день соседи! Евгений 59 квартира</td>\n",
       "    </tr>\n",
       "    <tr>\n",
       "      <th>2</th>\n",
       "      <td>\"date\": \"2023-06-24T13:21:52\"</td>\n",
       "      <td>Всем привет! Павел, Ирина, 97 ка.</td>\n",
       "    </tr>\n",
       "    <tr>\n",
       "      <th>3</th>\n",
       "      <td>\"date\": \"2023-06-24T13:32:47\"</td>\n",
       "      <td>А кто администратор группы? Добавьте сюда пред...</td>\n",
       "    </tr>\n",
       "    <tr>\n",
       "      <th>4</th>\n",
       "      <td>\"date\": \"2023-06-24T13:34:45\"</td>\n",
       "      <td>Может добавить любой участник. Если есть конта...</td>\n",
       "    </tr>\n",
       "    <tr>\n",
       "      <th>...</th>\n",
       "      <td>...</td>\n",
       "      <td>...</td>\n",
       "    </tr>\n",
       "    <tr>\n",
       "      <th>6577</th>\n",
       "      <td>\"date\": \"2025-08-23T19:00:05\"</td>\n",
       "      <td>2 секция соседи, кто потерял зарядку?</td>\n",
       "    </tr>\n",
       "    <tr>\n",
       "      <th>6578</th>\n",
       "      <td>\"date\": \"2025-08-23T21:07:13\"</td>\n",
       "      <td>Здравствуйте, где вы ее нашли?</td>\n",
       "    </tr>\n",
       "    <tr>\n",
       "      <th>6579</th>\n",
       "      <td>\"date\": \"2025-08-24T11:04:53\"</td>\n",
       "      <td>Здравствуйте, возможно мы</td>\n",
       "    </tr>\n",
       "    <tr>\n",
       "      <th>6580</th>\n",
       "      <td>\"date\": \"2025-08-24T11:09:49\"</td>\n",
       "      <td>Что такое ВОЗМОЖНО? Проверте каждый дома есть ...</td>\n",
       "    </tr>\n",
       "    <tr>\n",
       "      <th>6581</th>\n",
       "      <td>\"date\": \"2025-08-24T17:06:30\"</td>\n",
       "      <td>Здравствуйте мама Лёни напишите мне , ( мама И...</td>\n",
       "    </tr>\n",
       "  </tbody>\n",
       "</table>\n",
       "<p>6582 rows × 2 columns</p>\n",
       "</div>"
      ]
     },
     "execution_count": 13,
     "metadata": {},
     "output_type": "execute_result"
    }
   ],
   "execution_count": 13
  },
  {
   "metadata": {
    "ExecuteTime": {
     "end_time": "2025-08-24T18:28:26.969137Z",
     "start_time": "2025-08-24T18:28:26.952074Z"
    }
   },
   "cell_type": "code",
   "source": [
    "text_sequences = \"\"\n",
    "for file_name in all_data.keys():\n",
    "    text_sequences += \"\".join(all_data[file_name]['text'].values)\n",
    "len(text_sequences)"
   ],
   "id": "d2139cdd6ddf4dba",
   "outputs": [
    {
     "data": {
      "text/plain": [
       "614693"
      ]
     },
     "execution_count": 14,
     "metadata": {},
     "output_type": "execute_result"
    }
   ],
   "execution_count": 14
  },
  {
   "metadata": {
    "ExecuteTime": {
     "end_time": "2025-08-24T18:28:31.589540Z",
     "start_time": "2025-08-24T18:28:31.579910Z"
    }
   },
   "cell_type": "code",
   "source": [
    "with open(\"./output/text_corpus.txt\", 'w', encoding= \"utf-8\") as f:\n",
    "     f.write(text_sequences)\n"
   ],
   "id": "1cfed0f6e5721723",
   "outputs": [],
   "execution_count": 15
  },
  {
   "metadata": {
    "ExecuteTime": {
     "end_time": "2025-08-24T18:27:42.233197Z",
     "start_time": "2025-08-24T18:27:42.227058Z"
    }
   },
   "cell_type": "code",
   "source": [
    "a = '\"text\": \"\"'\n",
    "a = a.replace('\"', '').replace(\":\",'')\n",
    "a[4:].strip() == ''\n"
   ],
   "id": "8134a5fe04a92b31",
   "outputs": [
    {
     "data": {
      "text/plain": [
       "True"
      ]
     },
     "execution_count": 12,
     "metadata": {},
     "output_type": "execute_result"
    }
   ],
   "execution_count": 12
  },
  {
   "metadata": {
    "ExecuteTime": {
     "end_time": "2025-08-24T18:27:42.282559Z",
     "start_time": "2025-08-24T18:27:42.280037Z"
    }
   },
   "cell_type": "code",
   "source": "",
   "id": "39d50acad53962b5",
   "outputs": [],
   "execution_count": null
  }
 ],
 "metadata": {
  "kernelspec": {
   "display_name": "Python 3",
   "language": "python",
   "name": "python3"
  },
  "language_info": {
   "codemirror_mode": {
    "name": "ipython",
    "version": 2
   },
   "file_extension": ".py",
   "mimetype": "text/x-python",
   "name": "python",
   "nbconvert_exporter": "python",
   "pygments_lexer": "ipython2",
   "version": "2.7.6"
  }
 },
 "nbformat": 4,
 "nbformat_minor": 5
}
