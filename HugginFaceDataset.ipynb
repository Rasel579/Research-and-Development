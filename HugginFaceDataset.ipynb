{
 "cells": [
  {
   "cell_type": "code",
   "id": "initial_id",
   "metadata": {
    "collapsed": true,
    "ExecuteTime": {
     "end_time": "2025-09-22T17:16:43.441764Z",
     "start_time": "2025-09-22T17:16:42.829187Z"
    }
   },
   "source": [
    "from huggingface_hub import login\n",
    "login()"
   ],
   "outputs": [
    {
     "data": {
      "text/plain": [
       "VBox(children=(HTML(value='<center> <img\\nsrc=https://huggingface.co/front/assets/huggingface_logo-noborder.sv…"
      ],
      "application/vnd.jupyter.widget-view+json": {
       "version_major": 2,
       "version_minor": 0,
       "model_id": "91ba910b5c7341cc9a6fe6c1eb7a7d6d"
      }
     },
     "metadata": {},
     "output_type": "display_data"
    }
   ],
   "execution_count": 1
  },
  {
   "metadata": {
    "ExecuteTime": {
     "end_time": "2025-09-27T09:25:36.422396Z",
     "start_time": "2025-09-27T09:25:32.407190Z"
    }
   },
   "cell_type": "code",
   "source": [
    "from datasets import load_dataset\n",
    "dataset = load_dataset('SiberiaSoft/SiberianPersonaChat')"
   ],
   "id": "5cd24e7fbe5e49b2",
   "outputs": [],
   "execution_count": 2
  },
  {
   "metadata": {
    "ExecuteTime": {
     "end_time": "2025-09-27T15:05:17.547892Z",
     "start_time": "2025-09-27T15:05:17.540731Z"
    }
   },
   "cell_type": "code",
   "source": [
    "dataset['train'][1]['input']\n",
    "dataset['train'][10]['input'].split('Собеседник:')[1].split('Ты:')\n",
    "dataset['train'][10]['input'].split('Собеседник:')[1].split('Ты:')\n"
   ],
   "id": "2fb46aa66a0bf3eb",
   "outputs": [
    {
     "data": {
      "text/plain": [
       "[' Я пытаюсь уговорить мою бабушку купить собаку. У нее никогда не было домашнего животного, но я думаю, что собака была бы отличным спутником для нее. Как я могу убедить ее?\\n',\n",
       " ' ']"
      ]
     },
     "execution_count": 66,
     "metadata": {},
     "output_type": "execute_result"
    }
   ],
   "execution_count": 66
  },
  {
   "metadata": {
    "ExecuteTime": {
     "end_time": "2025-09-27T15:08:29.628479Z",
     "start_time": "2025-09-27T15:08:11.120249Z"
    }
   },
   "cell_type": "code",
   "source": [
    "from tqdm import tqdm\n",
    "\n",
    "input_messages = []\n",
    "for data in tqdm(dataset['train']):\n",
    "    input_messages.append({\n",
    "        'user': 'instruction',\n",
    "        'message': data['input'].split('Собеседник')[0]\n",
    "    })\n",
    "    if len(data['input'].split('Собеседник:')) > 1 and len(data['input'].split('Собеседник:')[1].split('Ты:')) > 0:\n",
    "        input_messages.append({\n",
    "            'user': 'user',\n",
    "            'message': data['input'].split('Собеседник:')[1].split('Ты:')[0]\n",
    "        })\n",
    "\n",
    "    if len(data['input'].split('Собеседник:')) > 2 and len(data['input'].split('Собеседник:')[1].split('Ты:')) > 1 and data['input'].split('Собеседник:')[1].split('Ты:')[1] != ' ':\n",
    "        input_messages.append({\n",
    "          'user': 'assistance',\n",
    "          'message': data['input'].split('Собеседник:')[1].split('Ты:')[1]\n",
    "        })\n",
    "\n",
    "    input_messages.append({\n",
    "        'user': 'assistance',\n",
    "        'message': data['output']\n",
    "    })\n",
    "\n",
    "input_messages[0]"
   ],
   "id": "2819eb3549087574",
   "outputs": [
    {
     "name": "stderr",
     "output_type": "stream",
     "text": [
      "100%|██████████| 448506/448506 [00:18<00:00, 24247.20it/s]\n"
     ]
    },
    {
     "data": {
      "text/plain": [
       "{'user': 'instruction',\n",
       " 'message': 'Ты парень, певец. Увлекаешься музыкой. Поешь на сцене. Любишь славу и популярность. Продолжи диалог:\\n'}"
      ]
     },
     "execution_count": 68,
     "metadata": {},
     "output_type": "execute_result"
    }
   ],
   "execution_count": 68
  },
  {
   "metadata": {
    "ExecuteTime": {
     "end_time": "2025-09-27T15:17:37.641639Z",
     "start_time": "2025-09-27T15:17:37.635623Z"
    }
   },
   "cell_type": "code",
   "source": "input_messages[30]",
   "id": "2c99535b3195fb68",
   "outputs": [
    {
     "data": {
      "text/plain": [
       "{'user': 'user',\n",
       " 'message': ' Просто ужасно! Не знаю, как я справлюсь с этим экзаменом. Я уже несколько раз не смог сдать его.\\n'}"
      ]
     },
     "execution_count": 87,
     "metadata": {},
     "output_type": "execute_result"
    }
   ],
   "execution_count": 87
  },
  {
   "metadata": {
    "ExecuteTime": {
     "end_time": "2025-09-27T15:11:10.682099Z",
     "start_time": "2025-09-27T15:11:09.743084Z"
    }
   },
   "cell_type": "code",
   "source": [
    "fine_tunning_data = []\n",
    "\n",
    "start_of_text_token = \"<|startoftext|>\"\n",
    "end_of_text_token = \"<|endoftext|>\"\n",
    "separator_token = \"<|separator|>\"\n",
    "\n",
    "for message in input_messages:\n",
    "    sender = message['user']\n",
    "    message = message['message']\n",
    "    input_text = f\"{start_of_text_token}{sender}{separator_token}{message}{end_of_text_token}\"\n",
    "    fine_tunning_data.append(input_text)\n",
    "\n",
    "fine_tunning_data[0]"
   ],
   "id": "e1a2907a3bd4ef09",
   "outputs": [
    {
     "data": {
      "text/plain": [
       "'<|startoftext|>instruction<|separator|>Ты парень, певец. Увлекаешься музыкой. Поешь на сцене. Любишь славу и популярность. Продолжи диалог:\\n<|endoftext|>'"
      ]
     },
     "execution_count": 84,
     "metadata": {},
     "output_type": "execute_result"
    }
   ],
   "execution_count": 84
  },
  {
   "metadata": {
    "ExecuteTime": {
     "end_time": "2025-09-27T15:11:16.192382Z",
     "start_time": "2025-09-27T15:11:16.186161Z"
    }
   },
   "cell_type": "code",
   "source": "len(fine_tunning_data)",
   "id": "f5603af049b90cfe",
   "outputs": [
    {
     "data": {
      "text/plain": [
       "1576583"
      ]
     },
     "execution_count": 85,
     "metadata": {},
     "output_type": "execute_result"
    }
   ],
   "execution_count": 85
  },
  {
   "metadata": {
    "ExecuteTime": {
     "end_time": "2025-09-27T15:11:27.215582Z",
     "start_time": "2025-09-27T15:11:23.653097Z"
    }
   },
   "cell_type": "code",
   "source": [
    "import json\n",
    "\n",
    "with open(\"./output/finetune_text_corpus_hf.json\", 'w', encoding= \"utf-8\") as f:\n",
    "     json.dump(fine_tunning_data, f, indent=4, ensure_ascii=False)"
   ],
   "id": "a67e639c16060f97",
   "outputs": [],
   "execution_count": 86
  }
 ],
 "metadata": {
  "kernelspec": {
   "display_name": "Python 3",
   "language": "python",
   "name": "python3"
  },
  "language_info": {
   "codemirror_mode": {
    "name": "ipython",
    "version": 2
   },
   "file_extension": ".py",
   "mimetype": "text/x-python",
   "name": "python",
   "nbconvert_exporter": "python",
   "pygments_lexer": "ipython2",
   "version": "2.7.6"
  }
 },
 "nbformat": 4,
 "nbformat_minor": 5
}
